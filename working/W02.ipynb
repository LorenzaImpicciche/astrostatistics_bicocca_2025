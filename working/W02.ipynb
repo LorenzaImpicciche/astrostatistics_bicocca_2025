{
 "cells": [
  {
   "cell_type": "markdown",
   "id": "f98ded85-b24e-451e-9065-05647cf40f0b",
   "metadata": {},
   "source": [
    "# Esercizio W02"
   ]
  },
  {
   "cell_type": "code",
   "execution_count": 7,
   "id": "3aa0c08f-2077-4485-b0f8-284d9faf3008",
   "metadata": {},
   "outputs": [],
   "source": [
    "import numpy as np\n",
    "import random\n",
    "import matplotlib.pyplot as plt"
   ]
  },
  {
   "cell_type": "markdown",
   "id": "f3a7f14e-4a43-40a5-9102-a054031caf3d",
   "metadata": {},
   "source": [
    "Simulate function"
   ]
  },
  {
   "cell_type": "code",
   "execution_count": 31,
   "id": "db5590e3-3eb2-4fe0-9454-6e745f9831ed",
   "metadata": {},
   "outputs": [],
   "source": [
    "#0: goat\n",
    "#1: car\n",
    "\n",
    "def simulate():\n",
    "    doors=[0,0,1]\n",
    "    doors_index=[0,1,2] #target\n",
    "\n",
    "    #1. choose a door\n",
    "    choice1=random.choice(doors_index)\n",
    "\n",
    "    #2. open door with goat\n",
    "    open_door=0\n",
    "    for i in range(3):\n",
    "        if i!=choice1 and doors[i]==0:\n",
    "            open_door=i\n",
    "        \n",
    "    #print(\"She/He open door number \", open_door, \"and finds \", doors[open_door])\n",
    "\n",
    "\n",
    "    #PLAYER\n",
    "    #conservative\n",
    "    #print(\"The conservative has door number \", choice1, \"and finds\", doors[choice1])\n",
    "    \n",
    "    #switcher\n",
    "    for i in range(3):\n",
    "        if i!=choice1 and i!=open_door:\n",
    "            choice2=i\n",
    "    #print(\"The switcher has door number \", choice2, \"and finds \", doors[choice2])    \n",
    "\n",
    "    \n",
    "    #newcomer\n",
    "    for i in range(3):\n",
    "        if i!=open_door:\n",
    "            choice3=random.choice(doors_index)\n",
    "    #print(\"The newcomer has door number \", choice3, \"and finds\", doors[choice3])\n",
    "\n",
    "    #number of win\n",
    "    p1=0 #conservative\n",
    "    p2=0 #switcher\n",
    "    p3=0 #newcomer\n",
    "\n",
    "    #WHO WIN?\n",
    "    if doors[choice1]==1:\n",
    "        p1=1\n",
    "        #print(\"The conservative wins!\")\n",
    "\n",
    "    if doors[choice2]==1:\n",
    "        p2=1\n",
    "        #print(\"The switcher wins!\")\n",
    "\n",
    "    if doors[choice3]==1:\n",
    "        p3=1\n",
    "        #print(\"The newcomer wins!\")\n",
    "        \n",
    "    return p1, p2, p3\n"
   ]
  },
  {
   "cell_type": "markdown",
   "id": "040bb004-492b-4b16-a90b-43f70202cf77",
   "metadata": {},
   "source": [
    "Simulation for 500 times"
   ]
  },
  {
   "cell_type": "code",
   "execution_count": 32,
   "id": "a446608e-da82-4a49-be1a-a0dfb98a6231",
   "metadata": {},
   "outputs": [
    {
     "name": "stdout",
     "output_type": "stream",
     "text": [
      "Conservative wins:  3289\n",
      "Switcher wins:  6711\n",
      "Newcomer wins:  3342\n"
     ]
    }
   ],
   "source": [
    "p1_total=0\n",
    "p2_total=0\n",
    "p3_total=0\n",
    "\n",
    "N=10000\n",
    "\n",
    "#simulate for N times\n",
    "for i in range(N):\n",
    "    p1, p2, p3 = simulate()\n",
    "    p1_total += p1\n",
    "    p2_total += p2\n",
    "    p3_total += p3\n",
    "\n",
    "print(\"Conservative wins: \", p1_total)\n",
    "print(\"Switcher wins: \", p2_total)\n",
    "print(\"Newcomer wins: \", p3_total)"
   ]
  },
  {
   "cell_type": "markdown",
   "id": "19d0408d-d5b0-43a6-a533-b08998f16a76",
   "metadata": {},
   "source": [
    "Istogramma dei risultati"
   ]
  },
  {
   "cell_type": "code",
   "execution_count": 28,
   "id": "74c7eb90-774e-430c-8ef8-3786afab296e",
   "metadata": {},
   "outputs": [
    {
     "data": {
      "text/plain": [
       "<BarContainer object of 3 artists>"
      ]
     },
     "execution_count": 28,
     "metadata": {},
     "output_type": "execute_result"
    },
    {
     "data": {
      "image/png": "[encoded data removed]",
      "text/plain": [
       "<Figure size 640x480 with 1 Axes>"
      ]
     },
     "metadata": {},
     "output_type": "display_data"
    }
   ],
   "source": [
    "categories = ['Conservative', 'Switcher', 'Newcomer']\n",
    "\n",
    "values = [p1_total/N, p2_total/N, p3_total/N]\n",
    "plt.bar(categories, values)"
   ]
  }
 ],
 "metadata": {
  "kernelspec": {
   "display_name": "Python 3 (ipykernel)",
   "language": "python",
   "name": "python3"
  },
  "language_info": {
   "codemirror_mode": {
    "name": "ipython",
    "version": 3
   },
   "file_extension": ".py",
   "mimetype": "text/x-python",
   "name": "python",
   "nbconvert_exporter": "python",
   "pygments_lexer": "ipython3",
   "version": "3.13.2"
  }
 },
 "nbformat": 4,
 "nbformat_minor": 5
}
