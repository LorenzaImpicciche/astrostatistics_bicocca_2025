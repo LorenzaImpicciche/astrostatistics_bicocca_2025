{
 "cells": [
  {
   "cell_type": "markdown",
   "id": "c4d2a048-4813-4231-ab66-45cfdb25ddf6",
   "metadata": {},
   "source": [
    "# Esercizio W02"
   ]
  },
  {
   "cell_type": "code",
   "execution_count": null,
   "id": "db5590e3-3eb2-4fe0-9454-6e745f9831ed",
   "metadata": {},
   "outputs": [],
   "source": []
  }
 ],
 "metadata": {
  "kernelspec": {
   "display_name": "Python 3 (ipykernel)",
   "language": "python",
   "name": "python3"
  },
  "language_info": {
   "codemirror_mode": {
    "name": "ipython",
    "version": 3
   },
   "file_extension": ".py",
   "mimetype": "text/x-python",
   "name": "python",
   "nbconvert_exporter": "python",
   "pygments_lexer": "ipython3",
   "version": "3.13.2"
  }
 },
 "nbformat": 4,
 "nbformat_minor": 5
}
